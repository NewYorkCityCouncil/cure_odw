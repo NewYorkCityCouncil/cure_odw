{
 "cells": [
  {
   "cell_type": "code",
   "execution_count": 1,
   "id": "dafa13a9",
   "metadata": {},
   "outputs": [],
   "source": [
    "import pandas as pd\n",
    "import geopandas as gpd"
   ]
  },
  {
   "cell_type": "code",
   "execution_count": 2,
   "id": "4693b58a",
   "metadata": {},
   "outputs": [],
   "source": [
    "# uploading shooting data\n",
    "\n",
    "shootings = pd.read_csv('https://data.cityofnewyork.us/resource/833y-fsy8.csv?$limit=9999999999999999')\n",
    "\n",
    "shootings['occur_date'] = pd.to_datetime(shootings['occur_date']) # converting to datetime\n",
    "shootings_06_12 = shootings[shootings['occur_date'] < pd.to_datetime('2013-01-01')] # filtering out dates after 2012"
   ]
  },
  {
   "cell_type": "code",
   "execution_count": 4,
   "id": "b933d63c",
   "metadata": {
    "scrolled": true
   },
   "outputs": [],
   "source": [
    "# grouping by year and precinct\n",
    "\n",
    "shootings_06_12 = shootings_06_12.groupby(['precinct', shootings_06_12['occur_date'].dt.to_period('Y')]).count()[['incident_key']]\n",
    "shootings_06_12 = shootings_06_12.rename(columns={'incident_key':'total_shootings'}) # changing column title"
   ]
  },
  {
   "cell_type": "code",
   "execution_count": 5,
   "id": "7b36b34d",
   "metadata": {},
   "outputs": [],
   "source": [
    "# the 2010 population breakdown within each precinct as they are drawn in June 2020\n",
    "# source: https://johnkeefe.net/nyc-police-precinct-and-census-data\n",
    "\n",
    "precinct_pop_data_10 = pd.read_csv('../data/input/nyc_2010pop_2020precincts.csv')"
   ]
  },
  {
   "cell_type": "code",
   "execution_count": 6,
   "id": "b4dbfc66",
   "metadata": {},
   "outputs": [
    {
     "data": {
      "text/plain": [
       "{22, 121}"
      ]
     },
     "execution_count": 6,
     "metadata": {},
     "output_type": "execute_result"
    }
   ],
   "source": [
    "# seeing if any precincts don't align between datasets\n",
    "\n",
    "set(precinct_pop_data_10['precinct_2020'].to_list()) ^ set(shootings_06_12.index.get_level_values('precinct').to_list())"
   ]
  },
  {
   "cell_type": "code",
   "execution_count": 7,
   "id": "aedea11c",
   "metadata": {
    "scrolled": true
   },
   "outputs": [
    {
     "data": {
      "text/html": [
       "<div>\n",
       "<style scoped>\n",
       "    .dataframe tbody tr th:only-of-type {\n",
       "        vertical-align: middle;\n",
       "    }\n",
       "\n",
       "    .dataframe tbody tr th {\n",
       "        vertical-align: top;\n",
       "    }\n",
       "\n",
       "    .dataframe thead th {\n",
       "        text-align: right;\n",
       "    }\n",
       "</style>\n",
       "<table border=\"1\" class=\"dataframe\">\n",
       "  <thead>\n",
       "    <tr style=\"text-align: right;\">\n",
       "      <th></th>\n",
       "      <th>precinct</th>\n",
       "      <th>total_shootings</th>\n",
       "      <th>2010_population</th>\n",
       "      <th>shootings_per_100K</th>\n",
       "    </tr>\n",
       "    <tr>\n",
       "      <th>occur_date</th>\n",
       "      <th></th>\n",
       "      <th></th>\n",
       "      <th></th>\n",
       "      <th></th>\n",
       "    </tr>\n",
       "  </thead>\n",
       "  <tbody>\n",
       "    <tr>\n",
       "      <th>2007</th>\n",
       "      <td>1</td>\n",
       "      <td>1</td>\n",
       "      <td>66679</td>\n",
       "      <td>1.499723</td>\n",
       "    </tr>\n",
       "    <tr>\n",
       "      <th>2008</th>\n",
       "      <td>1</td>\n",
       "      <td>1</td>\n",
       "      <td>66679</td>\n",
       "      <td>1.499723</td>\n",
       "    </tr>\n",
       "    <tr>\n",
       "      <th>2009</th>\n",
       "      <td>1</td>\n",
       "      <td>1</td>\n",
       "      <td>66679</td>\n",
       "      <td>1.499723</td>\n",
       "    </tr>\n",
       "    <tr>\n",
       "      <th>2010</th>\n",
       "      <td>1</td>\n",
       "      <td>8</td>\n",
       "      <td>66679</td>\n",
       "      <td>11.997780</td>\n",
       "    </tr>\n",
       "    <tr>\n",
       "      <th>2012</th>\n",
       "      <td>1</td>\n",
       "      <td>2</td>\n",
       "      <td>66679</td>\n",
       "      <td>2.999445</td>\n",
       "    </tr>\n",
       "    <tr>\n",
       "      <th>...</th>\n",
       "      <td>...</td>\n",
       "      <td>...</td>\n",
       "      <td>...</td>\n",
       "      <td>...</td>\n",
       "    </tr>\n",
       "    <tr>\n",
       "      <th>2007</th>\n",
       "      <td>123</td>\n",
       "      <td>3</td>\n",
       "      <td>98032</td>\n",
       "      <td>3.060225</td>\n",
       "    </tr>\n",
       "    <tr>\n",
       "      <th>2008</th>\n",
       "      <td>123</td>\n",
       "      <td>2</td>\n",
       "      <td>98032</td>\n",
       "      <td>2.040150</td>\n",
       "    </tr>\n",
       "    <tr>\n",
       "      <th>2009</th>\n",
       "      <td>123</td>\n",
       "      <td>2</td>\n",
       "      <td>98032</td>\n",
       "      <td>2.040150</td>\n",
       "    </tr>\n",
       "    <tr>\n",
       "      <th>2010</th>\n",
       "      <td>123</td>\n",
       "      <td>1</td>\n",
       "      <td>98032</td>\n",
       "      <td>1.020075</td>\n",
       "    </tr>\n",
       "    <tr>\n",
       "      <th>2011</th>\n",
       "      <td>123</td>\n",
       "      <td>8</td>\n",
       "      <td>98032</td>\n",
       "      <td>8.160601</td>\n",
       "    </tr>\n",
       "  </tbody>\n",
       "</table>\n",
       "<p>490 rows × 4 columns</p>\n",
       "</div>"
      ],
      "text/plain": [
       "           precinct  total_shootings  2010_population  shootings_per_100K\n",
       "occur_date                                                               \n",
       "2007              1                1            66679            1.499723\n",
       "2008              1                1            66679            1.499723\n",
       "2009              1                1            66679            1.499723\n",
       "2010              1                8            66679           11.997780\n",
       "2012              1                2            66679            2.999445\n",
       "...             ...              ...              ...                 ...\n",
       "2007            123                3            98032            3.060225\n",
       "2008            123                2            98032            2.040150\n",
       "2009            123                2            98032            2.040150\n",
       "2010            123                1            98032            1.020075\n",
       "2011            123                8            98032            8.160601\n",
       "\n",
       "[490 rows x 4 columns]"
      ]
     },
     "execution_count": 7,
     "metadata": {},
     "output_type": "execute_result"
    }
   ],
   "source": [
    "# removing missing precincts\n",
    "\n",
    "precinct_pop_data_10 = precinct_pop_data_10[(precinct_pop_data_10['precinct_2020'] != 22) & (precinct_pop_data_10['precinct_2020'] != 121)][['precinct_2020', 'P0010001']]\n",
    "precinct_pop_data_10 = precinct_pop_data_10.set_index('precinct_2020')\n",
    "\n",
    "# adding population per precinct (based on 2010 census)\n",
    "# 'P0010001' is total population according to https://www.documentcloud.org/documents/87708-pl94-171-1.html#document/p64\n",
    "# using pop_dict to pair each precinct to total pop, then matching with shootings_06_12['precinct'] to add pop to shootings_06_12['2010_population']  \n",
    "\n",
    "pop_dict = pd.Series(precinct_pop_data_10['P0010001'].values,index=precinct_pop_data_10.index.astype(str)).to_dict()\n",
    "shootings_06_12 = shootings_06_12.reset_index(level=['precinct'])\n",
    "shootings_06_12['precinct'] = shootings_06_12['precinct'].astype(str)\n",
    "shootings_06_12['2010_population'] = shootings_06_12['precinct'].astype(str).str.findall('|'.join([fr'\\b{w}\\b' for w in pop_dict.keys()])).apply(\", \".join).map(pop_dict)\n",
    "\n",
    "# creating shootings per 100K column using 'total_shootings' and '2010_population'\n",
    "\n",
    "shootings_06_12['shootings_per_100K'] = (shootings_06_12['total_shootings'] / shootings_06_12['2010_population']) * 100000\n",
    "shootings_06_12"
   ]
  },
  {
   "cell_type": "code",
   "execution_count": 8,
   "id": "7e7ee041",
   "metadata": {},
   "outputs": [],
   "source": [
    "# taking the mean of the annual shooting rate (2006-2012)\n",
    "\n",
    "shootings_06_12 = shootings_06_12.groupby('precinct').mean()[['shootings_per_100K']] # grouping by precinct\n",
    "shootings_06_12.index = shootings_06_12.index.astype(int)\n",
    "shootings_06_12 = shootings_06_12.sort_index()"
   ]
  },
  {
   "cell_type": "code",
   "execution_count": 10,
   "id": "2fb0a3cd",
   "metadata": {},
   "outputs": [],
   "source": [
    "# downloading results\n",
    "\n",
    "# shootings_06_12.to_csv('../data/output/NYC-precinct-shootings_mean_2006_2012.csv')"
   ]
  }
 ],
 "metadata": {
  "kernelspec": {
   "display_name": "Python 3 (ipykernel)",
   "language": "python",
   "name": "python3"
  },
  "language_info": {
   "codemirror_mode": {
    "name": "ipython",
    "version": 3
   },
   "file_extension": ".py",
   "mimetype": "text/x-python",
   "name": "python",
   "nbconvert_exporter": "python",
   "pygments_lexer": "ipython3",
   "version": "3.9.13"
  }
 },
 "nbformat": 4,
 "nbformat_minor": 5
}
